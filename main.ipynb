{
 "cells": [
  {
   "cell_type": "code",
   "execution_count": 35,
   "metadata": {},
   "outputs": [
    {
     "data": {
      "text/plain": [
       "b'9Mytyik331FtUjVdAjbyGsZYrAmA5HEZ3ySySkJxJxA='"
      ]
     },
     "execution_count": 35,
     "metadata": {},
     "output_type": "execute_result"
    }
   ],
   "source": [
    "from cryptography.fernet import Fernet\n",
    "# Put this somewhere safe!\n",
    "decrypt_key = Fernet.generate_key()\n",
    "decrypt_key\n",
    "\n"
   ]
  },
  {
   "cell_type": "code",
   "execution_count": 96,
   "metadata": {},
   "outputs": [
    {
     "name": "stdout",
     "output_type": "stream",
     "text": [
      "b'gAAAAABlVkQM7Jb2gWUbWxhVpGLO8V0L747bKaKEdHCQrd2PtS4uGbR8XovVpH-2an0KbGeT5KwjEe9JHzIXqoBugcRaA2td4A=='\n",
      "b'bro idk'\n"
     ]
    }
   ],
   "source": [
    "\n",
    "\n",
    "f = Fernet(decrypt_key)\n",
    "token = f.encrypt(b\"bro idk\")\n",
    "print(token)\n",
    "\n",
    "token = f.decrypt(token)\n",
    "print(token)"
   ]
  },
  {
   "cell_type": "code",
   "execution_count": null,
   "metadata": {},
   "outputs": [
    {
     "data": {
      "text/plain": [
       "b'gAAAAABlVjCh2EsDx4if1T2YMWlN0AVeauRYp-LLv6GLtyAIcGM7DTrbrCmNyp2_Yl5J621GwYd9CdDO8k2bqmWVW260egMIkw=='"
      ]
     },
     "metadata": {},
     "output_type": "display_data"
    }
   ],
   "source": [
    "def password_encryption(encrypt_key, password):\n",
    "    f = Fernet(encrypt_key)\n",
    "    token = f.encrypt(password)\n",
    "    return token\n",
    "\n",
    "key = b'UChG_X63zHcFmtbXbREaK0-jeCG0mOxMb7lFiRnkegI='\n",
    "password=\"aaa32423\"\n",
    "password_bytes = password.encode('utf-8')\n",
    "password_encryption(key, password_bytes)"
   ]
  },
  {
   "cell_type": "code",
   "execution_count": 15,
   "metadata": {},
   "outputs": [
    {
     "data": {
      "text/plain": [
       "b'gAAAAABlVjCh2EsDx4if1T2YMWlN0AVeauRYp-LLv6GLtyAIcGM7DTrbrCmNyp2_Yl5J621GwYd9CdDO8k2bqmWVW260egMIkw=='"
      ]
     },
     "execution_count": 15,
     "metadata": {},
     "output_type": "execute_result"
    }
   ],
   "source": [
    "def password_encryption(encrypt_key, password):\n",
    "    f = Fernet(encrypt_key)\n",
    "    token = f.encrypt(password)\n",
    "    return token\n",
    "\n",
    "key = b'UChG_X63zHcFmtbXbREaK0-jeCG0mOxMb7lFiRnkegI='\n",
    "password=\"aaa32423\"\n",
    "password_bytes = password.encode('utf-8')\n",
    "password_encryption(key, password_bytes)"
   ]
  },
  {
   "cell_type": "code",
   "execution_count": 25,
   "metadata": {},
   "outputs": [
    {
     "data": {
      "text/plain": [
       "b'aaa32423'"
      ]
     },
     "execution_count": 25,
     "metadata": {},
     "output_type": "execute_result"
    }
   ],
   "source": [
    "def password_decryption(encrypt_key, password):\n",
    "    f = Fernet(encrypt_key)\n",
    "    token = f.decrypt(password)\n",
    "    return token\n",
    "\n",
    "key = b'UChG_X63zHcFmtbXbREaK0-jeCG0mOxMb7lFiRnkegI='\n",
    "password= b'gAAAAABlVjCh2EsDx4if1T2YMWlN0AVeauRYp-LLv6GLtyAIcGM7DTrbrCmNyp2_Yl5J621GwYd9CdDO8k2bqmWVW260egMIkw=='\n",
    "\n",
    "password_decryption(key, password)\n",
    "    "
   ]
  }
 ],
 "metadata": {
  "kernelspec": {
   "display_name": "Python 3",
   "language": "python",
   "name": "python3"
  },
  "language_info": {
   "codemirror_mode": {
    "name": "ipython",
    "version": 3
   },
   "file_extension": ".py",
   "mimetype": "text/x-python",
   "name": "python",
   "nbconvert_exporter": "python",
   "pygments_lexer": "ipython3",
   "version": "3.11.6"
  }
 },
 "nbformat": 4,
 "nbformat_minor": 2
}
